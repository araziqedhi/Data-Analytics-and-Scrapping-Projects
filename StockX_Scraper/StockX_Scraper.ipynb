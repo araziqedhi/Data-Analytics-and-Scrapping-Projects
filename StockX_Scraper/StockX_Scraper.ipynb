{
 "cells": [
  {
   "cell_type": "code",
   "execution_count": null,
   "id": "f3604cc1",
   "metadata": {},
   "outputs": [
    {
     "name": "stderr",
     "output_type": "stream",
     "text": [
      "C:\\Users\\Zbook\\AppData\\Local\\Temp\\ipykernel_2876\\637196086.py:23: DeprecationWarning: executable_path has been deprecated, please pass in a Service object\n",
      "  driver = webdriver.Chrome(options=options,executable_path=executable_path)\n"
     ]
    }
   ],
   "source": [
    "import selenium\n",
    "import pandas as pd\n",
    "from selenium import webdriver\n",
    "from selenium.webdriver.common.by import By\n",
    "from selenium.common.exceptions import NoSuchElementException\n",
    "unique_links = [f\"https://stockx.com/search?s=pokemon&page={page}\" for page in range(1, 26)]\n",
    "dynamic_price_list = []\n",
    "text_list = []\n",
    "links=[]\n",
    "# Create Chromeoptions instance\n",
    "options = webdriver.ChromeOptions()\n",
    "executable_path=\"./chromedriver-win64 (1)/chromedriver-win64/chromedriver.exe\"\n",
    "# Adding argument to disable the AutomationControlled flag\n",
    "options.add_argument(\"--disable-blink-features=AutomationControlled\")\n",
    "\n",
    "# Exclude the collection of enable-automation switches\n",
    "options.add_experimental_option(\"excludeSwitches\", [\"enable-automation\"])\n",
    "\n",
    "# Turn-off userAutomationExtension\n",
    "options.add_experimental_option(\"useAutomationExtension\", False)\n",
    "\n",
    "# Setting the driver path and requesting a page\n",
    "driver = webdriver.Chrome(options=options,executable_path=executable_path)\n",
    "\n",
    "# Changing the property of the navigator value for webdriver to undefined\n",
    "driver.execute_script(\"Object.defineProperty(navigator, 'webdriver', {get: () => undefined})\")\n",
    "\n",
    "# List of unique_links you want to visit\n",
    "for link in unique_links:\n",
    "    driver.get(link)\n",
    "    \n",
    "    try:\n",
    "        # Find all elements with class name 'css-1i6xaee'\n",
    "        elements = driver.find_elements(By.CLASS_NAME, 'css-1i6xaee')\n",
    "        \n",
    "        # Extract the text content from each element and append to the list\n",
    "        for element in elements:\n",
    "            text = element.text\n",
    "            if not text:  # Check if text is empty\n",
    "                text = \"Not found\"\n",
    "            dynamic_price_list.append(text)\n",
    "\n",
    "            # Print the extracted text\n",
    "            #print(text)\n",
    "    except NoSuchElementException:\n",
    "        print(\"Element not found on\", link)\n",
    "    \n",
    "\n",
    "    try:\n",
    "            # Find all elements with the specified class name\n",
    "        elements = driver.find_elements(By.CLASS_NAME, 'chakra-text.css-3lpefb')\n",
    "\n",
    "            # Extract the text content from each element and append to the list\n",
    "        for element in elements:\n",
    "            text1 = element.text\n",
    "            text_list.append(text1)\n",
    "\n",
    "                # Print the extracted text\n",
    "            #print(text1)\n",
    "    except NoSuchElementException:\n",
    "        print(\"Elements not found\")\n",
    "    try:\n",
    "        # Find all <a> elements with the given data-testid attribute\n",
    "        anchor_elements = driver.find_elements(By.CSS_SELECTOR, '[data-testid=\"RouterSwitcherLink\"]')\n",
    "        \n",
    "        # Loop through each element (start from index 1) and extract the 'href' attribute\n",
    "        for i in range(1, len(anchor_elements)):\n",
    "            href_link = anchor_elements[i].get_attribute(\"href\")\n",
    "            links.append(href_link)\n",
    "\n",
    "        #print(links)\n",
    "    except NoSuchElementException:\n",
    "        print(\"Links not found or an error occurred.\")\n",
    "\n",
    "    \n",
    "    \n",
    "# Close the WebDriver\n",
    "driver.quit()\n",
    "\n",
    "import pandas as pd\n",
    "\n",
    "# Assuming dynamic_price_list, text_list, and links are your lists\n",
    "\n",
    "# Create a dictionary containing the lists\n",
    "data = {\n",
    "    'Name': text_list,\n",
    "    'Lowest Ask': dynamic_price_list,\n",
    "    'Links': links\n",
    "}\n",
    "\n",
    "# Convert the dictionary into a DataFrame\n",
    "df = pd.DataFrame(data)\n",
    "\n",
    "# Print the DataFrame\n",
    "df = df[df['Lowest Ask'] != '--']\n",
    "\n",
    "# Reset the index of the DataFrame\n",
    "df.reset_index(drop=True, inplace=True)\n",
    "\n",
    "# Print the cleaned DataFrame\n",
    "\n",
    "\n",
    "df.to_csv(\"./Scraped Data.csv\")\n",
    "df"
   ]
  },
  {
   "cell_type": "code",
   "execution_count": 3,
   "id": "64003d7d",
   "metadata": {},
   "outputs": [
    {
     "data": {
      "text/plain": [
       "40"
      ]
     },
     "execution_count": 3,
     "metadata": {},
     "output_type": "execute_result"
    }
   ],
   "source": [
    "len(dynamic_price_list)"
   ]
  },
  {
   "cell_type": "code",
   "execution_count": 4,
   "id": "295779af",
   "metadata": {},
   "outputs": [
    {
     "data": {
      "text/plain": [
       "40"
      ]
     },
     "execution_count": 4,
     "metadata": {},
     "output_type": "execute_result"
    }
   ],
   "source": [
    "len(text_list)"
   ]
  },
  {
   "cell_type": "code",
   "execution_count": 5,
   "id": "50ccf06e",
   "metadata": {},
   "outputs": [
    {
     "data": {
      "text/plain": [
       "371"
      ]
     },
     "execution_count": 5,
     "metadata": {},
     "output_type": "execute_result"
    }
   ],
   "source": [
    "len(links)"
   ]
  },
  {
   "cell_type": "code",
   "execution_count": null,
   "id": "3fed08c3",
   "metadata": {},
   "outputs": [],
   "source": []
  }
 ],
 "metadata": {
  "kernelspec": {
   "display_name": "Python 3 (ipykernel)",
   "language": "python",
   "name": "python3"
  },
  "language_info": {
   "codemirror_mode": {
    "name": "ipython",
    "version": 3
   },
   "file_extension": ".py",
   "mimetype": "text/x-python",
   "name": "python",
   "nbconvert_exporter": "python",
   "pygments_lexer": "ipython3",
   "version": "3.9.13"
  }
 },
 "nbformat": 4,
 "nbformat_minor": 5
}

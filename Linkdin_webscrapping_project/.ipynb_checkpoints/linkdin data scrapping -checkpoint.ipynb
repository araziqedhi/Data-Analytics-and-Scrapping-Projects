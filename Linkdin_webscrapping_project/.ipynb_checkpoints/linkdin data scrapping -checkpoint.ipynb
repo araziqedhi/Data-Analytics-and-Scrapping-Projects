{
 "cells": [
  {
   "cell_type": "code",
   "execution_count": 1,
   "id": "9f768019",
   "metadata": {},
   "outputs": [
    {
     "name": "stdout",
     "output_type": "stream",
     "text": [
      "Requirement already satisfied: selenium in e:\\anaconda folder\\lib\\site-packages (4.9.1)\n",
      "Requirement already satisfied: urllib3[socks]<3,>=1.26 in e:\\anaconda folder\\lib\\site-packages (from selenium) (1.26.11)\n",
      "Requirement already satisfied: trio~=0.17 in e:\\anaconda folder\\lib\\site-packages (from selenium) (0.22.0)\n",
      "Requirement already satisfied: trio-websocket~=0.9 in e:\\anaconda folder\\lib\\site-packages (from selenium) (0.10.2)\n",
      "Requirement already satisfied: certifi>=2021.10.8 in e:\\anaconda folder\\lib\\site-packages (from selenium) (2022.9.14)\n",
      "Requirement already satisfied: idna in e:\\anaconda folder\\lib\\site-packages (from trio~=0.17->selenium) (3.3)\n",
      "Requirement already satisfied: sortedcontainers in e:\\anaconda folder\\lib\\site-packages (from trio~=0.17->selenium) (2.4.0)\n",
      "Requirement already satisfied: exceptiongroup>=1.0.0rc9 in e:\\anaconda folder\\lib\\site-packages (from trio~=0.17->selenium) (1.1.1)\n",
      "Requirement already satisfied: outcome in e:\\anaconda folder\\lib\\site-packages (from trio~=0.17->selenium) (1.2.0)\n",
      "Requirement already satisfied: sniffio in e:\\anaconda folder\\lib\\site-packages (from trio~=0.17->selenium) (1.2.0)\n",
      "Requirement already satisfied: attrs>=19.2.0 in e:\\anaconda folder\\lib\\site-packages (from trio~=0.17->selenium) (21.4.0)\n",
      "Requirement already satisfied: async-generator>=1.9 in e:\\anaconda folder\\lib\\site-packages (from trio~=0.17->selenium) (1.10)\n",
      "Requirement already satisfied: cffi>=1.14 in e:\\anaconda folder\\lib\\site-packages (from trio~=0.17->selenium) (1.15.1)\n",
      "Requirement already satisfied: wsproto>=0.14 in e:\\anaconda folder\\lib\\site-packages (from trio-websocket~=0.9->selenium) (1.2.0)\n",
      "Requirement already satisfied: PySocks!=1.5.7,<2.0,>=1.5.6 in e:\\anaconda folder\\lib\\site-packages (from urllib3[socks]<3,>=1.26->selenium) (1.7.1)\n",
      "Requirement already satisfied: pycparser in e:\\anaconda folder\\lib\\site-packages (from cffi>=1.14->trio~=0.17->selenium) (2.21)\n",
      "Requirement already satisfied: h11<1,>=0.9.0 in e:\\anaconda folder\\lib\\site-packages (from wsproto>=0.14->trio-websocket~=0.9->selenium) (0.14.0)\n"
     ]
    }
   ],
   "source": [
    "! pip install selenium\n",
    "from selenium import webdriver\n",
    "from time import sleep\n",
    "from selenium.webdriver.common.by import By\n",
    "import pandas as pd\n",
    "from selenium.webdriver.common.keys import Keys\n",
    "import time"
   ]
  },
  {
   "cell_type": "code",
   "execution_count": 2,
   "id": "ff589c11",
   "metadata": {},
   "outputs": [
    {
     "name": "stderr",
     "output_type": "stream",
     "text": [
      "C:\\Users\\Zbook\\AppData\\Local\\Temp\\ipykernel_2440\\2408189288.py:2: DeprecationWarning: executable_path has been deprecated, please pass in a Service object\n",
      "  driver=webdriver.Chrome(executable_path=path)\n"
     ]
    }
   ],
   "source": [
    "path=\"./selenium_driver/\"\n",
    "driver=webdriver.Chrome(executable_path=path)"
   ]
  },
  {
   "cell_type": "code",
   "execution_count": 3,
   "id": "ad4694a2",
   "metadata": {},
   "outputs": [],
   "source": [
    "url = \"https://www.linkedin.com/jobs/search/?currentJobId=3629362470&geoId=101022442&keywords=sales&location=Pakistan&refresh=true\"\n",
    "driver.implicitly_wait(10)\n",
    "driver.get(url)\n",
    "driver.maximize_window()"
   ]
  },
  {
   "cell_type": "code",
   "execution_count": 4,
   "id": "342df444",
   "metadata": {},
   "outputs": [
    {
     "data": {
      "text/plain": [
       "3"
      ]
     },
     "execution_count": 4,
     "metadata": {},
     "output_type": "execute_result"
    }
   ],
   "source": [
    "y=driver.find_elements(By.CLASS_NAME,\"results-context-header__job-count\")[0].text\n",
    "len(y)"
   ]
  },
  {
   "cell_type": "code",
   "execution_count": 5,
   "id": "e7fc8358",
   "metadata": {},
   "outputs": [
    {
     "data": {
      "text/plain": [
       "str"
      ]
     },
     "execution_count": 5,
     "metadata": {},
     "output_type": "execute_result"
    }
   ],
   "source": [
    "type(y)"
   ]
  },
  {
   "cell_type": "code",
   "execution_count": 6,
   "id": "8b6dfdaf",
   "metadata": {},
   "outputs": [
    {
     "data": {
      "text/plain": [
       "652"
      ]
     },
     "execution_count": 6,
     "metadata": {},
     "output_type": "execute_result"
    }
   ],
   "source": [
    "n=pd.to_numeric(y)\n",
    "n"
   ]
  },
  {
   "cell_type": "code",
   "execution_count": 7,
   "id": "2cccf303",
   "metadata": {},
   "outputs": [],
   "source": [
    "i=2\n",
    "while i<3:\n",
    "    driver.execute_script(\"window.scrollTo(0, document.body.scrollHeight);\")\n",
    "    i=i+1\n",
    "    try:\n",
    "        scroll=driver.find_element(By.XPATH,\"//button[@aria-label='See more jobs']\")\n",
    "        scroll.click() \n",
    "        \n",
    "    except:\n",
    "        pass\n",
    "       "
   ]
  },
  {
   "cell_type": "code",
   "execution_count": 8,
   "id": "a27fee7e",
   "metadata": {},
   "outputs": [
    {
     "name": "stdout",
     "output_type": "stream",
     "text": [
      "no\n"
     ]
    },
    {
     "data": {
      "text/plain": [
       "50"
      ]
     },
     "execution_count": 8,
     "metadata": {},
     "output_type": "execute_result"
    }
   ],
   "source": [
    "job_name=[]\n",
    "try:\n",
    "    for i in range(n):\n",
    "        name=driver.find_elements(By.CLASS_NAME,\"base-search-card__title\")[i].text\n",
    "        job_name.append(name)\n",
    "except IndexError:\n",
    "    print(\"no\")\n",
    "len(job_name)"
   ]
  },
  {
   "cell_type": "code",
   "execution_count": 9,
   "id": "0331495f",
   "metadata": {},
   "outputs": [
    {
     "name": "stdout",
     "output_type": "stream",
     "text": [
      "no\n"
     ]
    },
    {
     "data": {
      "text/plain": [
       "['NxtWave',\n",
       " 'Qatar Airways',\n",
       " 'PakWheels.com',\n",
       " 'Byte (YC S20)',\n",
       " 'PakWheels.com',\n",
       " 'PakWheels.com',\n",
       " 'PakWheels.com',\n",
       " 'PakWheels.com',\n",
       " 'REDA Chemicals',\n",
       " 'PakWheels.com',\n",
       " 'PakWheels.com',\n",
       " 'Nestlé',\n",
       " 'PakWheels.com',\n",
       " 'Shan Foods Private Limited',\n",
       " 'PakWheels.com',\n",
       " 'Mondelēz International',\n",
       " 'Procter & Gamble',\n",
       " 'Byte (YC S20)',\n",
       " 'marcus evans Group',\n",
       " 'Rentokil Initial',\n",
       " 'ibex',\n",
       " 'Baya Group (Pvt)',\n",
       " 'Kennis Zone Pvt Ltd',\n",
       " 'Hotel Management Services',\n",
       " 'Teradata',\n",
       " 'TOMO™ Bottle',\n",
       " 'Nextbridge Ltd.',\n",
       " 'PakWheels.com',\n",
       " 'IFF',\n",
       " 'VASHISHTA sYSTEMS',\n",
       " 'TekRevol',\n",
       " 'Tagaddod',\n",
       " 'Beam',\n",
       " 'Nextbridge Ltd.',\n",
       " 'Philip Morris International',\n",
       " 'Synavos',\n",
       " 'Upfield',\n",
       " 'The Plum Tree Group',\n",
       " 'Jazz',\n",
       " 'INTECH Automation & Intelligence',\n",
       " 'CEQUENS',\n",
       " 'Motive',\n",
       " 'PakWheels.com',\n",
       " 'Reckitt',\n",
       " 'Staff IT Solution',\n",
       " 'Kennis Zone Pvt Ltd',\n",
       " 'Dymentions Pakistan',\n",
       " 'Leverify',\n",
       " 'Howmuch',\n",
       " 'LDP Logistics, Inc.']"
      ]
     },
     "metadata": {},
     "output_type": "display_data"
    }
   ],
   "source": [
    "company_name=[]\n",
    "try:\n",
    "    for i in range(n):\n",
    "        name=driver.find_elements(By.CLASS_NAME,\"base-search-card__subtitle\")[i].text\n",
    "        company_name.append(name)\n",
    "except IndexError:\n",
    "    print(\"no\")\n",
    "len(company_name)\n",
    "display(company_name)"
   ]
  },
  {
   "cell_type": "code",
   "execution_count": 10,
   "id": "8fd1c1d1",
   "metadata": {},
   "outputs": [
    {
     "name": "stdout",
     "output_type": "stream",
     "text": [
      "50\n"
     ]
    }
   ],
   "source": [
    "location=[]\n",
    "try:\n",
    "    for i in range(n):\n",
    "        name=driver.find_elements(By.CLASS_NAME,\"job-search-card__location\")[i].text\n",
    "        location.append(name)\n",
    "except IndexError:\n",
    "    pass\n",
    "print(len(location))"
   ]
  },
  {
   "cell_type": "code",
   "execution_count": 11,
   "id": "99995a5d",
   "metadata": {},
   "outputs": [
    {
     "data": {
      "text/plain": [
       "['Hyderabad, Sindh, Pakistan',\n",
       " 'Karāchi, Sindh, Pakistan',\n",
       " 'Karāchi, Sindh, Pakistan',\n",
       " 'Lahore, Punjab, Pakistan',\n",
       " 'Rawalpindi, Punjab, Pakistan',\n",
       " 'Rawalpindi, Punjab, Pakistan',\n",
       " 'Lahore, Punjab, Pakistan',\n",
       " 'Lahore, Punjab, Pakistan',\n",
       " 'Karāchi, Sindh, Pakistan',\n",
       " 'Rawalpindi, Punjab, Pakistan',\n",
       " 'Multan, Punjab, Pakistan',\n",
       " 'Gwadar, Baluchistan, Pakistan',\n",
       " 'Gujranwala, Punjab, Pakistan',\n",
       " 'Sukkur, Sindh, Pakistan',\n",
       " 'Lahore, Punjab, Pakistan',\n",
       " 'Lahore, Punjab, Pakistan',\n",
       " 'Karāchi, Sindh, Pakistan',\n",
       " 'Lahore, Punjab, Pakistan',\n",
       " 'Karāchi, Sindh, Pakistan',\n",
       " 'Lahore, Punjab, Pakistan',\n",
       " 'Karachi Division, Sindh, Pakistan',\n",
       " 'Islamabad, Islāmābād, Pakistan',\n",
       " 'Islamabad, Islāmābād, Pakistan',\n",
       " 'Islamabad, Islāmābād, Pakistan',\n",
       " 'Islamabad, Islāmābād, Pakistan',\n",
       " 'Islamabad, Islāmābād, Pakistan',\n",
       " 'Lahore, Punjab, Pakistan',\n",
       " 'Peshawar, Khyber Pakhtunkhwa, Pakistan',\n",
       " 'Karāchi, Sindh, Pakistan',\n",
       " 'Hyderabad, Sindh, Pakistan',\n",
       " 'Karāchi, Sindh, Pakistan',\n",
       " 'Lahore, Punjab, Pakistan',\n",
       " 'Karāchi, Sindh, Pakistan',\n",
       " 'Lahore, Punjab, Pakistan',\n",
       " 'Bahawalpur, Punjab, Pakistan',\n",
       " 'Lahore District, Punjab, Pakistan',\n",
       " 'Hyderabad, Sindh, Pakistan',\n",
       " 'Karāchi, Sindh, Pakistan',\n",
       " 'Sindh, Pakistan',\n",
       " 'Lahore, Punjab, Pakistan',\n",
       " 'Islamabad, Islāmābād, Pakistan',\n",
       " 'Pakistan',\n",
       " 'Lahore, Punjab, Pakistan',\n",
       " 'Vehari, Punjab, Pakistan',\n",
       " 'Lahore, Punjab, Pakistan',\n",
       " 'Islāmābād, Pakistan',\n",
       " 'Karāchi, Sindh, Pakistan',\n",
       " 'Pakistan',\n",
       " 'Islamabad, Islāmābād, Pakistan',\n",
       " 'Karāchi, Sindh, Pakistan']"
      ]
     },
     "execution_count": 11,
     "metadata": {},
     "output_type": "execute_result"
    }
   ],
   "source": [
    "location"
   ]
  },
  {
   "cell_type": "code",
   "execution_count": 13,
   "id": "88dd06e6",
   "metadata": {},
   "outputs": [],
   "source": [
    "frequency=[]\n",
    "try: \n",
    "    for i in range(n):\n",
    "        name=driver.find_elements(By.CLASS_NAME,\"result-benefits__text\")[i].text\n",
    "        frequency.append(name)\n",
    "except IndexError:\n",
    "    pass\n"
   ]
  },
  {
   "cell_type": "code",
   "execution_count": 14,
   "id": "34badb99",
   "metadata": {},
   "outputs": [
    {
     "data": {
      "text/plain": [
       "27"
      ]
     },
     "execution_count": 14,
     "metadata": {},
     "output_type": "execute_result"
    }
   ],
   "source": [
    "len(frequency)"
   ]
  },
  {
   "cell_type": "code",
   "execution_count": 15,
   "id": "73e37d8c",
   "metadata": {},
   "outputs": [
    {
     "data": {
      "text/plain": [
       "['Actively Hiring',\n",
       " 'Actively Hiring',\n",
       " 'Be an early applicant',\n",
       " 'Be an early applicant',\n",
       " 'Be an early applicant',\n",
       " 'Actively Hiring',\n",
       " 'Actively Hiring',\n",
       " 'Be an early applicant',\n",
       " 'Actively Hiring',\n",
       " 'Actively Hiring',\n",
       " 'Actively Hiring',\n",
       " 'Actively Hiring',\n",
       " 'Actively Hiring',\n",
       " 'Actively Hiring',\n",
       " 'Actively Hiring',\n",
       " 'Actively Hiring',\n",
       " 'Be an early applicant',\n",
       " 'Actively Hiring',\n",
       " 'Actively Hiring',\n",
       " 'Actively Hiring',\n",
       " 'Actively Hiring',\n",
       " 'Actively Hiring',\n",
       " 'Actively Hiring',\n",
       " 'Actively Hiring',\n",
       " 'Actively Hiring',\n",
       " 'Be an early applicant',\n",
       " 'Be an early applicant']"
      ]
     },
     "execution_count": 15,
     "metadata": {},
     "output_type": "execute_result"
    }
   ],
   "source": [
    "frequency"
   ]
  },
  {
   "cell_type": "code",
   "execution_count": 38,
   "id": "c9fc6dab",
   "metadata": {},
   "outputs": [
    {
     "ename": "ValueError",
     "evalue": "All arrays must be of the same length",
     "output_type": "error",
     "traceback": [
      "\u001b[1;31m---------------------------------------------------------------------------\u001b[0m",
      "\u001b[1;31mValueError\u001b[0m                                Traceback (most recent call last)",
      "\u001b[1;32m~\\AppData\\Local\\Temp\\ipykernel_2440\\3987556932.py\u001b[0m in \u001b[0;36m<module>\u001b[1;34m\u001b[0m\n\u001b[1;32m----> 1\u001b[1;33m \u001b[0mdf\u001b[0m \u001b[1;33m=\u001b[0m \u001b[0mpd\u001b[0m\u001b[1;33m.\u001b[0m\u001b[0mDataFrame\u001b[0m\u001b[1;33m(\u001b[0m\u001b[1;33m{\u001b[0m\u001b[1;34m\"Job Name\"\u001b[0m\u001b[1;33m:\u001b[0m \u001b[0mjob_name\u001b[0m\u001b[1;33m,\u001b[0m \u001b[1;34m\"Company Name\"\u001b[0m\u001b[1;33m:\u001b[0m \u001b[0mcompany_name\u001b[0m\u001b[1;33m,\u001b[0m\u001b[1;34m\"Job Location\"\u001b[0m\u001b[1;33m:\u001b[0m\u001b[0mlocation\u001b[0m\u001b[1;33m,\u001b[0m\u001b[1;34m\"Frequency\"\u001b[0m\u001b[1;33m:\u001b[0m\u001b[0mfrequency\u001b[0m\u001b[1;33m}\u001b[0m\u001b[1;33m)\u001b[0m\u001b[1;33m\u001b[0m\u001b[1;33m\u001b[0m\u001b[0m\n\u001b[0m\u001b[0;32m      2\u001b[0m \u001b[0mdf\u001b[0m\u001b[1;33m\u001b[0m\u001b[1;33m\u001b[0m\u001b[0m\n",
      "\u001b[1;32mE:\\Anaconda folder\\lib\\site-packages\\pandas\\core\\frame.py\u001b[0m in \u001b[0;36m__init__\u001b[1;34m(self, data, index, columns, dtype, copy)\u001b[0m\n\u001b[0;32m    634\u001b[0m         \u001b[1;32melif\u001b[0m \u001b[0misinstance\u001b[0m\u001b[1;33m(\u001b[0m\u001b[0mdata\u001b[0m\u001b[1;33m,\u001b[0m \u001b[0mdict\u001b[0m\u001b[1;33m)\u001b[0m\u001b[1;33m:\u001b[0m\u001b[1;33m\u001b[0m\u001b[1;33m\u001b[0m\u001b[0m\n\u001b[0;32m    635\u001b[0m             \u001b[1;31m# GH#38939 de facto copy defaults to False only in non-dict cases\u001b[0m\u001b[1;33m\u001b[0m\u001b[1;33m\u001b[0m\u001b[0m\n\u001b[1;32m--> 636\u001b[1;33m             \u001b[0mmgr\u001b[0m \u001b[1;33m=\u001b[0m \u001b[0mdict_to_mgr\u001b[0m\u001b[1;33m(\u001b[0m\u001b[0mdata\u001b[0m\u001b[1;33m,\u001b[0m \u001b[0mindex\u001b[0m\u001b[1;33m,\u001b[0m \u001b[0mcolumns\u001b[0m\u001b[1;33m,\u001b[0m \u001b[0mdtype\u001b[0m\u001b[1;33m=\u001b[0m\u001b[0mdtype\u001b[0m\u001b[1;33m,\u001b[0m \u001b[0mcopy\u001b[0m\u001b[1;33m=\u001b[0m\u001b[0mcopy\u001b[0m\u001b[1;33m,\u001b[0m \u001b[0mtyp\u001b[0m\u001b[1;33m=\u001b[0m\u001b[0mmanager\u001b[0m\u001b[1;33m)\u001b[0m\u001b[1;33m\u001b[0m\u001b[1;33m\u001b[0m\u001b[0m\n\u001b[0m\u001b[0;32m    637\u001b[0m         \u001b[1;32melif\u001b[0m \u001b[0misinstance\u001b[0m\u001b[1;33m(\u001b[0m\u001b[0mdata\u001b[0m\u001b[1;33m,\u001b[0m \u001b[0mma\u001b[0m\u001b[1;33m.\u001b[0m\u001b[0mMaskedArray\u001b[0m\u001b[1;33m)\u001b[0m\u001b[1;33m:\u001b[0m\u001b[1;33m\u001b[0m\u001b[1;33m\u001b[0m\u001b[0m\n\u001b[0;32m    638\u001b[0m             \u001b[1;32mimport\u001b[0m \u001b[0mnumpy\u001b[0m\u001b[1;33m.\u001b[0m\u001b[0mma\u001b[0m\u001b[1;33m.\u001b[0m\u001b[0mmrecords\u001b[0m \u001b[1;32mas\u001b[0m \u001b[0mmrecords\u001b[0m\u001b[1;33m\u001b[0m\u001b[1;33m\u001b[0m\u001b[0m\n",
      "\u001b[1;32mE:\\Anaconda folder\\lib\\site-packages\\pandas\\core\\internals\\construction.py\u001b[0m in \u001b[0;36mdict_to_mgr\u001b[1;34m(data, index, columns, dtype, typ, copy)\u001b[0m\n\u001b[0;32m    500\u001b[0m         \u001b[1;31m# TODO: can we get rid of the dt64tz special case above?\u001b[0m\u001b[1;33m\u001b[0m\u001b[1;33m\u001b[0m\u001b[0m\n\u001b[0;32m    501\u001b[0m \u001b[1;33m\u001b[0m\u001b[0m\n\u001b[1;32m--> 502\u001b[1;33m     \u001b[1;32mreturn\u001b[0m \u001b[0marrays_to_mgr\u001b[0m\u001b[1;33m(\u001b[0m\u001b[0marrays\u001b[0m\u001b[1;33m,\u001b[0m \u001b[0mcolumns\u001b[0m\u001b[1;33m,\u001b[0m \u001b[0mindex\u001b[0m\u001b[1;33m,\u001b[0m \u001b[0mdtype\u001b[0m\u001b[1;33m=\u001b[0m\u001b[0mdtype\u001b[0m\u001b[1;33m,\u001b[0m \u001b[0mtyp\u001b[0m\u001b[1;33m=\u001b[0m\u001b[0mtyp\u001b[0m\u001b[1;33m,\u001b[0m \u001b[0mconsolidate\u001b[0m\u001b[1;33m=\u001b[0m\u001b[0mcopy\u001b[0m\u001b[1;33m)\u001b[0m\u001b[1;33m\u001b[0m\u001b[1;33m\u001b[0m\u001b[0m\n\u001b[0m\u001b[0;32m    503\u001b[0m \u001b[1;33m\u001b[0m\u001b[0m\n\u001b[0;32m    504\u001b[0m \u001b[1;33m\u001b[0m\u001b[0m\n",
      "\u001b[1;32mE:\\Anaconda folder\\lib\\site-packages\\pandas\\core\\internals\\construction.py\u001b[0m in \u001b[0;36marrays_to_mgr\u001b[1;34m(arrays, columns, index, dtype, verify_integrity, typ, consolidate)\u001b[0m\n\u001b[0;32m    118\u001b[0m         \u001b[1;31m# figure out the index, if necessary\u001b[0m\u001b[1;33m\u001b[0m\u001b[1;33m\u001b[0m\u001b[0m\n\u001b[0;32m    119\u001b[0m         \u001b[1;32mif\u001b[0m \u001b[0mindex\u001b[0m \u001b[1;32mis\u001b[0m \u001b[1;32mNone\u001b[0m\u001b[1;33m:\u001b[0m\u001b[1;33m\u001b[0m\u001b[1;33m\u001b[0m\u001b[0m\n\u001b[1;32m--> 120\u001b[1;33m             \u001b[0mindex\u001b[0m \u001b[1;33m=\u001b[0m \u001b[0m_extract_index\u001b[0m\u001b[1;33m(\u001b[0m\u001b[0marrays\u001b[0m\u001b[1;33m)\u001b[0m\u001b[1;33m\u001b[0m\u001b[1;33m\u001b[0m\u001b[0m\n\u001b[0m\u001b[0;32m    121\u001b[0m         \u001b[1;32melse\u001b[0m\u001b[1;33m:\u001b[0m\u001b[1;33m\u001b[0m\u001b[1;33m\u001b[0m\u001b[0m\n\u001b[0;32m    122\u001b[0m             \u001b[0mindex\u001b[0m \u001b[1;33m=\u001b[0m \u001b[0mensure_index\u001b[0m\u001b[1;33m(\u001b[0m\u001b[0mindex\u001b[0m\u001b[1;33m)\u001b[0m\u001b[1;33m\u001b[0m\u001b[1;33m\u001b[0m\u001b[0m\n",
      "\u001b[1;32mE:\\Anaconda folder\\lib\\site-packages\\pandas\\core\\internals\\construction.py\u001b[0m in \u001b[0;36m_extract_index\u001b[1;34m(data)\u001b[0m\n\u001b[0;32m    672\u001b[0m             \u001b[0mlengths\u001b[0m \u001b[1;33m=\u001b[0m \u001b[0mlist\u001b[0m\u001b[1;33m(\u001b[0m\u001b[0mset\u001b[0m\u001b[1;33m(\u001b[0m\u001b[0mraw_lengths\u001b[0m\u001b[1;33m)\u001b[0m\u001b[1;33m)\u001b[0m\u001b[1;33m\u001b[0m\u001b[1;33m\u001b[0m\u001b[0m\n\u001b[0;32m    673\u001b[0m             \u001b[1;32mif\u001b[0m \u001b[0mlen\u001b[0m\u001b[1;33m(\u001b[0m\u001b[0mlengths\u001b[0m\u001b[1;33m)\u001b[0m \u001b[1;33m>\u001b[0m \u001b[1;36m1\u001b[0m\u001b[1;33m:\u001b[0m\u001b[1;33m\u001b[0m\u001b[1;33m\u001b[0m\u001b[0m\n\u001b[1;32m--> 674\u001b[1;33m                 \u001b[1;32mraise\u001b[0m \u001b[0mValueError\u001b[0m\u001b[1;33m(\u001b[0m\u001b[1;34m\"All arrays must be of the same length\"\u001b[0m\u001b[1;33m)\u001b[0m\u001b[1;33m\u001b[0m\u001b[1;33m\u001b[0m\u001b[0m\n\u001b[0m\u001b[0;32m    675\u001b[0m \u001b[1;33m\u001b[0m\u001b[0m\n\u001b[0;32m    676\u001b[0m             \u001b[1;32mif\u001b[0m \u001b[0mhave_dicts\u001b[0m\u001b[1;33m:\u001b[0m\u001b[1;33m\u001b[0m\u001b[1;33m\u001b[0m\u001b[0m\n",
      "\u001b[1;31mValueError\u001b[0m: All arrays must be of the same length"
     ]
    }
   ],
   "source": [
    "df = pd.DataFrame({\"Job Name\": job_name, \"Company Name\": company_name,\"Job Location\":location,\"Frequency\":frequency})\n",
    "df"
   ]
  },
  {
   "cell_type": "code",
   "execution_count": null,
   "id": "07ff8a75",
   "metadata": {},
   "outputs": [],
   "source": []
  }
 ],
 "metadata": {
  "kernelspec": {
   "display_name": "Python 3 (ipykernel)",
   "language": "python",
   "name": "python3"
  },
  "language_info": {
   "codemirror_mode": {
    "name": "ipython",
    "version": 3
   },
   "file_extension": ".py",
   "mimetype": "text/x-python",
   "name": "python",
   "nbconvert_exporter": "python",
   "pygments_lexer": "ipython3",
   "version": "3.9.13"
  }
 },
 "nbformat": 4,
 "nbformat_minor": 5
}

{
 "cells": [
  {
   "cell_type": "code",
   "execution_count": 1,
   "id": "90a80b3e",
   "metadata": {},
   "outputs": [
    {
     "name": "stdout",
     "output_type": "stream",
     "text": [
      "Requirement already satisfied: selenium in e:\\anaconda folder\\lib\\site-packages (4.9.1)\n",
      "Requirement already satisfied: trio~=0.17 in e:\\anaconda folder\\lib\\site-packages (from selenium) (0.22.0)\n",
      "Requirement already satisfied: urllib3[socks]<3,>=1.26 in e:\\anaconda folder\\lib\\site-packages (from selenium) (1.26.11)\n",
      "Requirement already satisfied: certifi>=2021.10.8 in e:\\anaconda folder\\lib\\site-packages (from selenium) (2022.9.14)\n",
      "Requirement already satisfied: trio-websocket~=0.9 in e:\\anaconda folder\\lib\\site-packages (from selenium) (0.10.2)\n",
      "Requirement already satisfied: attrs>=19.2.0 in e:\\anaconda folder\\lib\\site-packages (from trio~=0.17->selenium) (21.4.0)\n",
      "Requirement already satisfied: idna in e:\\anaconda folder\\lib\\site-packages (from trio~=0.17->selenium) (3.3)\n",
      "Requirement already satisfied: cffi>=1.14 in e:\\anaconda folder\\lib\\site-packages (from trio~=0.17->selenium) (1.15.1)\n",
      "Requirement already satisfied: sniffio in e:\\anaconda folder\\lib\\site-packages (from trio~=0.17->selenium) (1.2.0)\n",
      "Requirement already satisfied: outcome in e:\\anaconda folder\\lib\\site-packages (from trio~=0.17->selenium) (1.2.0)\n",
      "Requirement already satisfied: sortedcontainers in e:\\anaconda folder\\lib\\site-packages (from trio~=0.17->selenium) (2.4.0)\n",
      "Requirement already satisfied: exceptiongroup>=1.0.0rc9 in e:\\anaconda folder\\lib\\site-packages (from trio~=0.17->selenium) (1.1.1)\n",
      "Requirement already satisfied: async-generator>=1.9 in e:\\anaconda folder\\lib\\site-packages (from trio~=0.17->selenium) (1.10)\n",
      "Requirement already satisfied: wsproto>=0.14 in e:\\anaconda folder\\lib\\site-packages (from trio-websocket~=0.9->selenium) (1.2.0)\n",
      "Requirement already satisfied: PySocks!=1.5.7,<2.0,>=1.5.6 in e:\\anaconda folder\\lib\\site-packages (from urllib3[socks]<3,>=1.26->selenium) (1.7.1)\n",
      "Requirement already satisfied: pycparser in e:\\anaconda folder\\lib\\site-packages (from cffi>=1.14->trio~=0.17->selenium) (2.21)\n",
      "Requirement already satisfied: h11<1,>=0.9.0 in e:\\anaconda folder\\lib\\site-packages (from wsproto>=0.14->trio-websocket~=0.9->selenium) (0.14.0)\n"
     ]
    }
   ],
   "source": [
    "! pip install selenium\n",
    "from selenium import webdriver\n",
    "from time import sleep\n",
    "from selenium.webdriver.common.by import By\n",
    "import pandas as pd\n",
    "from selenium.webdriver.common.keys import Keys\n",
    "import time\n",
    "from bs4 import BeautifulSoup"
   ]
  },
  {
   "cell_type": "code",
   "execution_count": 2,
   "id": "720477d0",
   "metadata": {},
   "outputs": [
    {
     "name": "stderr",
     "output_type": "stream",
     "text": [
      "C:\\Users\\Zbook\\AppData\\Local\\Temp\\ipykernel_16476\\2408189288.py:2: DeprecationWarning: executable_path has been deprecated, please pass in a Service object\n",
      "  driver=webdriver.Chrome(executable_path=path)\n"
     ]
    }
   ],
   "source": [
    "path=\"./selenium_driver/\"\n",
    "driver=webdriver.Chrome(executable_path=path)"
   ]
  },
  {
   "cell_type": "code",
   "execution_count": 3,
   "id": "ed179405",
   "metadata": {},
   "outputs": [],
   "source": [
    "url = \"https://www.linkedin.com/jobs/search/?currentJobId=3629362470&geoId=101022442&keywords=sales&location=USA&refresh=true\"\n",
    "driver.implicitly_wait(10)\n",
    "driver.get(url)\n",
    "driver.maximize_window()"
   ]
  },
  {
   "cell_type": "code",
   "execution_count": 4,
   "id": "816a58b8",
   "metadata": {},
   "outputs": [
    {
     "data": {
      "text/plain": [
       "610"
      ]
     },
     "execution_count": 4,
     "metadata": {},
     "output_type": "execute_result"
    }
   ],
   "source": [
    "y=driver.find_elements(By.CLASS_NAME,\"results-context-header__job-count\")[0].text\n",
    "type(y)\n",
    "n=pd.to_numeric(y)\n",
    "n"
   ]
  },
  {
   "cell_type": "code",
   "execution_count": 5,
   "id": "b108957c",
   "metadata": {},
   "outputs": [],
   "source": [
    "from selenium.webdriver.common.by import By\n",
    "from selenium.webdriver.support.ui import WebDriverWait\n",
    "from selenium.webdriver.support import expected_conditions as EC\n",
    "\n",
    "for i in range(2):\n",
    "    driver.execute_script(\"window.scrollTo(0, document.body.scrollHeight);\")\n",
    "    \n",
    "    try:\n",
    "        scroll = WebDriverWait(driver, 5).until(EC.presence_of_element_located((By.XPATH, \"//button[@aria-label='See more jobs']\")))\n",
    "        scroll.click() \n",
    "        \n",
    "    except:\n",
    "        pass\n"
   ]
  },
  {
   "cell_type": "code",
   "execution_count": 6,
   "id": "3c7fd282",
   "metadata": {},
   "outputs": [
    {
     "name": "stdout",
     "output_type": "stream",
     "text": [
      "no\n",
      "75\n",
      "no\n",
      "75\n",
      "75\n",
      "no\n",
      "75\n",
      "75\n"
     ]
    }
   ],
   "source": [
    "job_name=[]\n",
    "try:\n",
    "    for i in range(n):\n",
    "        name=driver.find_elements(By.CLASS_NAME,\"base-search-card__title\")[i].text\n",
    "        job_name.append(name)\n",
    "except IndexError:\n",
    "    print(\"no\")\n",
    "print(len(job_name))\n",
    "\n",
    "company_name=[]\n",
    "try:\n",
    "    for i in range(n):\n",
    "        name=driver.find_elements(By.CLASS_NAME,\"base-search-card__subtitle\")[i].text\n",
    "        company_name.append(name)\n",
    "except IndexError:\n",
    "    print(\"no\")\n",
    "print(len(company_name))\n",
    "\n",
    "location=[]\n",
    "try:\n",
    "    for i in range(n):\n",
    "        name=driver.find_elements(By.CLASS_NAME,\"job-search-card__location\")[i].text\n",
    "        location.append(name)\n",
    "except IndexError:\n",
    "    pass\n",
    "print(len(location))\n",
    "frequency=[]\n",
    "try: \n",
    "    for i in range(n):\n",
    "        name = driver.find_elements(By.CSS_SELECTOR, \".job-search-card__listdate, .job-search-card__listdate--new\")[i].text\n",
    "        frequency.append(name)\n",
    "except IndexError:\n",
    "    print(\"no\")\n",
    "\n",
    "    \n",
    "print(len(frequency))\n",
    "jobList = driver.find_elements(By.CLASS_NAME,'base-card__full-link')\n",
    "hrefList = []\n",
    "for e in jobList:\n",
    "    hrefList.append(e.get_attribute('href'))\n",
    "print(len(jobList))"
   ]
  },
  {
   "cell_type": "code",
   "execution_count": 7,
   "id": "3b5199e1",
   "metadata": {},
   "outputs": [
    {
     "data": {
      "text/html": [
       "<div>\n",
       "<style scoped>\n",
       "    .dataframe tbody tr th:only-of-type {\n",
       "        vertical-align: middle;\n",
       "    }\n",
       "\n",
       "    .dataframe tbody tr th {\n",
       "        vertical-align: top;\n",
       "    }\n",
       "\n",
       "    .dataframe thead th {\n",
       "        text-align: right;\n",
       "    }\n",
       "</style>\n",
       "<table border=\"1\" class=\"dataframe\">\n",
       "  <thead>\n",
       "    <tr style=\"text-align: right;\">\n",
       "      <th></th>\n",
       "      <th>Job Name</th>\n",
       "      <th>Company Name</th>\n",
       "      <th>Job Location</th>\n",
       "      <th>Time Posted</th>\n",
       "      <th>Links</th>\n",
       "    </tr>\n",
       "  </thead>\n",
       "  <tbody>\n",
       "    <tr>\n",
       "      <th>0</th>\n",
       "      <td>Senior Account Manager - Karachi, Pakistan</td>\n",
       "      <td>Qatar Airways</td>\n",
       "      <td>Karāchi, Sindh, Pakistan</td>\n",
       "      <td>5 days ago</td>\n",
       "      <td>https://pk.linkedin.com/jobs/view/senior-accou...</td>\n",
       "    </tr>\n",
       "    <tr>\n",
       "      <th>1</th>\n",
       "      <td>NxtWave - Associate - Business Development/Sal...</td>\n",
       "      <td>NxtWave</td>\n",
       "      <td>Hyderabad, Sindh, Pakistan</td>\n",
       "      <td>1 month ago</td>\n",
       "      <td>https://pk.linkedin.com/jobs/view/nxtwave-asso...</td>\n",
       "    </tr>\n",
       "    <tr>\n",
       "      <th>2</th>\n",
       "      <td>Car Field Sales Executive - Karachi</td>\n",
       "      <td>PakWheels.com</td>\n",
       "      <td>Karāchi, Sindh, Pakistan</td>\n",
       "      <td>1 month ago</td>\n",
       "      <td>https://pk.linkedin.com/jobs/view/car-field-sa...</td>\n",
       "    </tr>\n",
       "    <tr>\n",
       "      <th>3</th>\n",
       "      <td>Territory Sales Manager</td>\n",
       "      <td>Shan Foods Private Limited</td>\n",
       "      <td>Sukkur, Sindh, Pakistan</td>\n",
       "      <td>2 days ago</td>\n",
       "      <td>https://pk.linkedin.com/jobs/view/territory-sa...</td>\n",
       "    </tr>\n",
       "    <tr>\n",
       "      <th>4</th>\n",
       "      <td>Area Sales Manager Abbottabad</td>\n",
       "      <td>Mondelēz International</td>\n",
       "      <td>Lahore, Punjab, Pakistan</td>\n",
       "      <td>1 day ago</td>\n",
       "      <td>https://pk.linkedin.com/jobs/view/area-sales-m...</td>\n",
       "    </tr>\n",
       "    <tr>\n",
       "      <th>...</th>\n",
       "      <td>...</td>\n",
       "      <td>...</td>\n",
       "      <td>...</td>\n",
       "      <td>...</td>\n",
       "      <td>...</td>\n",
       "    </tr>\n",
       "    <tr>\n",
       "      <th>70</th>\n",
       "      <td>Positions Vacant: Semi Commercial Sales Projec...</td>\n",
       "      <td>Government College University, Faisalabad</td>\n",
       "      <td>Faisalabad, Punjab, Pakistan</td>\n",
       "      <td>1 month ago</td>\n",
       "      <td>https://pk.linkedin.com/jobs/view/positions-va...</td>\n",
       "    </tr>\n",
       "    <tr>\n",
       "      <th>71</th>\n",
       "      <td>Assistant Manager Sales</td>\n",
       "      <td>Zameen.com</td>\n",
       "      <td>Karāchi, Sindh, Pakistan</td>\n",
       "      <td>6 months ago</td>\n",
       "      <td>https://pk.linkedin.com/jobs/view/assistant-ma...</td>\n",
       "    </tr>\n",
       "    <tr>\n",
       "      <th>72</th>\n",
       "      <td>Sales Executive</td>\n",
       "      <td>Greenovative Solutions Inc.</td>\n",
       "      <td>Karachi Division, Sindh, Pakistan</td>\n",
       "      <td>1 day ago</td>\n",
       "      <td>https://pk.linkedin.com/jobs/view/sales-execut...</td>\n",
       "    </tr>\n",
       "    <tr>\n",
       "      <th>73</th>\n",
       "      <td>Inside Sales Intern</td>\n",
       "      <td>PakWheels.com</td>\n",
       "      <td>Lahore, Punjab, Pakistan</td>\n",
       "      <td>1 day ago</td>\n",
       "      <td>https://pk.linkedin.com/jobs/view/inside-sales...</td>\n",
       "    </tr>\n",
       "    <tr>\n",
       "      <th>74</th>\n",
       "      <td>Global Sales Associate</td>\n",
       "      <td>ULTAINFINITY GLOBAL GROUP</td>\n",
       "      <td>Pakistan</td>\n",
       "      <td>2 weeks ago</td>\n",
       "      <td>https://pk.linkedin.com/jobs/view/global-sales...</td>\n",
       "    </tr>\n",
       "  </tbody>\n",
       "</table>\n",
       "<p>75 rows × 5 columns</p>\n",
       "</div>"
      ],
      "text/plain": [
       "                                             Job Name  \\\n",
       "0          Senior Account Manager - Karachi, Pakistan   \n",
       "1   NxtWave - Associate - Business Development/Sal...   \n",
       "2                 Car Field Sales Executive - Karachi   \n",
       "3                             Territory Sales Manager   \n",
       "4                       Area Sales Manager Abbottabad   \n",
       "..                                                ...   \n",
       "70  Positions Vacant: Semi Commercial Sales Projec...   \n",
       "71                            Assistant Manager Sales   \n",
       "72                                    Sales Executive   \n",
       "73                                Inside Sales Intern   \n",
       "74                             Global Sales Associate   \n",
       "\n",
       "                                 Company Name  \\\n",
       "0                               Qatar Airways   \n",
       "1                                     NxtWave   \n",
       "2                               PakWheels.com   \n",
       "3                  Shan Foods Private Limited   \n",
       "4                      Mondelēz International   \n",
       "..                                        ...   \n",
       "70  Government College University, Faisalabad   \n",
       "71                                 Zameen.com   \n",
       "72                Greenovative Solutions Inc.   \n",
       "73                              PakWheels.com   \n",
       "74                  ULTAINFINITY GLOBAL GROUP   \n",
       "\n",
       "                         Job Location   Time Posted  \\\n",
       "0            Karāchi, Sindh, Pakistan    5 days ago   \n",
       "1          Hyderabad, Sindh, Pakistan   1 month ago   \n",
       "2            Karāchi, Sindh, Pakistan   1 month ago   \n",
       "3             Sukkur, Sindh, Pakistan    2 days ago   \n",
       "4            Lahore, Punjab, Pakistan     1 day ago   \n",
       "..                                ...           ...   \n",
       "70       Faisalabad, Punjab, Pakistan   1 month ago   \n",
       "71           Karāchi, Sindh, Pakistan  6 months ago   \n",
       "72  Karachi Division, Sindh, Pakistan     1 day ago   \n",
       "73           Lahore, Punjab, Pakistan     1 day ago   \n",
       "74                           Pakistan   2 weeks ago   \n",
       "\n",
       "                                                Links  \n",
       "0   https://pk.linkedin.com/jobs/view/senior-accou...  \n",
       "1   https://pk.linkedin.com/jobs/view/nxtwave-asso...  \n",
       "2   https://pk.linkedin.com/jobs/view/car-field-sa...  \n",
       "3   https://pk.linkedin.com/jobs/view/territory-sa...  \n",
       "4   https://pk.linkedin.com/jobs/view/area-sales-m...  \n",
       "..                                                ...  \n",
       "70  https://pk.linkedin.com/jobs/view/positions-va...  \n",
       "71  https://pk.linkedin.com/jobs/view/assistant-ma...  \n",
       "72  https://pk.linkedin.com/jobs/view/sales-execut...  \n",
       "73  https://pk.linkedin.com/jobs/view/inside-sales...  \n",
       "74  https://pk.linkedin.com/jobs/view/global-sales...  \n",
       "\n",
       "[75 rows x 5 columns]"
      ]
     },
     "execution_count": 7,
     "metadata": {},
     "output_type": "execute_result"
    }
   ],
   "source": [
    "df = pd.DataFrame({\"Job Name\": job_name, \"Company Name\": company_name,\"Job Location\":location,\"Time Posted\":frequency,\"Links\":hrefList})\n",
    "df"
   ]
  },
  {
   "cell_type": "code",
   "execution_count": 8,
   "id": "e4a1e0bf",
   "metadata": {},
   "outputs": [],
   "source": [
    "df.to_csv(\"./JobData.csv\",index=False)"
   ]
  },
  {
   "cell_type": "code",
   "execution_count": 10,
   "id": "615419df",
   "metadata": {},
   "outputs": [
    {
     "ename": "SyntaxError",
     "evalue": "invalid syntax (1317812384.py, line 1)",
     "output_type": "error",
     "traceback": [
      "\u001b[1;36m  File \u001b[1;32m\"C:\\Users\\Zbook\\AppData\\Local\\Temp\\ipykernel_16476\\1317812384.py\"\u001b[1;36m, line \u001b[1;32m1\u001b[0m\n\u001b[1;33m    len(My name is Abdul Raziq , I am a Data Scientist with 3 years of Experience in different industries including Ecommerc,Sales , HR and many more . Looking forward )\u001b[0m\n\u001b[1;37m           ^\u001b[0m\n\u001b[1;31mSyntaxError\u001b[0m\u001b[1;31m:\u001b[0m invalid syntax\n"
     ]
    }
   ],
   "source": []
  },
  {
   "cell_type": "code",
   "execution_count": null,
   "id": "b377368a",
   "metadata": {},
   "outputs": [],
   "source": []
  }
 ],
 "metadata": {
  "kernelspec": {
   "display_name": "Python 3 (ipykernel)",
   "language": "python",
   "name": "python3"
  },
  "language_info": {
   "codemirror_mode": {
    "name": "ipython",
    "version": 3
   },
   "file_extension": ".py",
   "mimetype": "text/x-python",
   "name": "python",
   "nbconvert_exporter": "python",
   "pygments_lexer": "ipython3",
   "version": "3.9.13"
  }
 },
 "nbformat": 4,
 "nbformat_minor": 5
}

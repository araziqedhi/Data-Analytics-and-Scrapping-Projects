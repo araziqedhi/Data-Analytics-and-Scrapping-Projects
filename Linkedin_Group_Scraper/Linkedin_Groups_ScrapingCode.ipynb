{
 "cells": [
  {
   "cell_type": "code",
   "execution_count": 1,
   "id": "83f340c8",
   "metadata": {},
   "outputs": [
    {
     "name": "stdout",
     "output_type": "stream",
     "text": [
      "Requirement already satisfied: selenium in e:\\anaconda folder\\lib\\site-packages (4.9.1)\n",
      "Requirement already satisfied: trio-websocket~=0.9 in e:\\anaconda folder\\lib\\site-packages (from selenium) (0.10.2)\n",
      "Requirement already satisfied: trio~=0.17 in e:\\anaconda folder\\lib\\site-packages (from selenium) (0.22.0)\n",
      "Requirement already satisfied: urllib3[socks]<3,>=1.26 in e:\\anaconda folder\\lib\\site-packages (from selenium) (1.26.11)\n",
      "Requirement already satisfied: certifi>=2021.10.8 in e:\\anaconda folder\\lib\\site-packages (from selenium) (2022.9.14)\n",
      "Requirement already satisfied: sortedcontainers in e:\\anaconda folder\\lib\\site-packages (from trio~=0.17->selenium) (2.4.0)\n",
      "Requirement already satisfied: sniffio in e:\\anaconda folder\\lib\\site-packages (from trio~=0.17->selenium) (1.2.0)\n",
      "Requirement already satisfied: attrs>=19.2.0 in e:\\anaconda folder\\lib\\site-packages (from trio~=0.17->selenium) (21.4.0)\n",
      "Requirement already satisfied: async-generator>=1.9 in e:\\anaconda folder\\lib\\site-packages (from trio~=0.17->selenium) (1.10)\n",
      "Requirement already satisfied: outcome in e:\\anaconda folder\\lib\\site-packages (from trio~=0.17->selenium) (1.2.0)\n",
      "Requirement already satisfied: cffi>=1.14 in e:\\anaconda folder\\lib\\site-packages (from trio~=0.17->selenium) (1.15.1)\n",
      "Requirement already satisfied: idna in e:\\anaconda folder\\lib\\site-packages (from trio~=0.17->selenium) (3.3)\n",
      "Requirement already satisfied: exceptiongroup>=1.0.0rc9 in e:\\anaconda folder\\lib\\site-packages (from trio~=0.17->selenium) (1.1.1)\n",
      "Requirement already satisfied: wsproto>=0.14 in e:\\anaconda folder\\lib\\site-packages (from trio-websocket~=0.9->selenium) (1.2.0)\n",
      "Requirement already satisfied: PySocks!=1.5.7,<2.0,>=1.5.6 in e:\\anaconda folder\\lib\\site-packages (from urllib3[socks]<3,>=1.26->selenium) (1.7.1)\n",
      "Requirement already satisfied: pycparser in e:\\anaconda folder\\lib\\site-packages (from cffi>=1.14->trio~=0.17->selenium) (2.21)\n",
      "Requirement already satisfied: h11<1,>=0.9.0 in e:\\anaconda folder\\lib\\site-packages (from wsproto>=0.14->trio-websocket~=0.9->selenium) (0.14.0)\n"
     ]
    },
    {
     "name": "stderr",
     "output_type": "stream",
     "text": [
      "WARNING: Ignoring invalid distribution -atplotlib (e:\\anaconda folder\\lib\\site-packages)\n",
      "WARNING: Ignoring invalid distribution -atplotlib (e:\\anaconda folder\\lib\\site-packages)\n",
      "WARNING: Ignoring invalid distribution -atplotlib (e:\\anaconda folder\\lib\\site-packages)\n",
      "WARNING: Ignoring invalid distribution -atplotlib (e:\\anaconda folder\\lib\\site-packages)\n",
      "WARNING: Ignoring invalid distribution -atplotlib (e:\\anaconda folder\\lib\\site-packages)\n",
      "WARNING: Ignoring invalid distribution -atplotlib (e:\\anaconda folder\\lib\\site-packages)\n"
     ]
    }
   ],
   "source": [
    "! pip install selenium\n",
    "from selenium import webdriver\n",
    "from time import sleep\n",
    "from selenium.webdriver.common.by import By\n",
    "import pandas as pd\n",
    "from selenium.webdriver.common.keys import Keys\n",
    "import time"
   ]
  },
  {
   "cell_type": "code",
   "execution_count": 2,
   "id": "1c6fee74",
   "metadata": {},
   "outputs": [],
   "source": [
    "from selenium import webdriver\n",
    "from selenium.webdriver.chrome.service import Service\n",
    "\n",
    "# Create ChromeOptions instance\n",
    "options = webdriver.ChromeOptions()\n",
    "\n",
    "# Adding argument to disable the AutomationControlled flag\n",
    "options.add_argument(\"--disable-blink-features=AutomationControlled\")\n",
    "\n",
    "# Exclude the collection of enable-automation switches\n",
    "options.add_experimental_option(\"excludeSwitches\", [\"enable-automation\"])\n",
    "\n",
    "# Specify the path to the ChromeDriver executable\n",
    "#chrome_driver_path = r\"C:\\Users\\user\\Documents\\timetable\\chromedriver-win64 (1)\\chromedriver-win64 (1)\\chromedriver-win64\\chromedriver.exe\"\n",
    "chrome_driver_path = \"./chromedriver-win64 (1)/chromedriver-win64\\chromedriver.exe\"\n",
    "\n",
    "# Create a Service instance using the executable_path\n",
    "service = Service(executable_path=chrome_driver_path)\n",
    "\n",
    "# Create the Chrome WebDriver instance using the created service and options\n",
    "driver = webdriver.Chrome(service=service, options=options)\n",
    "\n",
    "# Changing the property of the navigator value for webdriver to undefined\n",
    "driver.execute_script(\"Object.defineProperty(navigator, 'webdriver', {get: () => undefined})\")\n",
    "\n",
    "# You can now use the driver to interact with web pages\n"
   ]
  },
  {
   "cell_type": "code",
   "execution_count": 3,
   "id": "ec9df882",
   "metadata": {},
   "outputs": [],
   "source": [
    "url = \"https://www.linkedin.com/groups/58764/members/\"\n",
    "driver.implicitly_wait(10)\n",
    "driver.get(url)\n",
    "driver.maximize_window()"
   ]
  },
  {
   "cell_type": "code",
   "execution_count": 4,
   "id": "79ef6f3b",
   "metadata": {},
   "outputs": [],
   "source": [
    "# Find the element by its placeholder attribute\n",
    "search_element = driver.find_element(By.XPATH, \"//input[@placeholder='Search members']\")"
   ]
  },
  {
   "cell_type": "code",
   "execution_count": 5,
   "id": "31842c4e",
   "metadata": {},
   "outputs": [],
   "source": [
    "search_element.send_keys(\"m\")"
   ]
  },
  {
   "cell_type": "code",
   "execution_count": null,
   "id": "af8b424f",
   "metadata": {},
   "outputs": [],
   "source": []
  },
  {
   "cell_type": "code",
   "execution_count": 6,
   "id": "71e83c87",
   "metadata": {},
   "outputs": [
    {
     "name": "stdout",
     "output_type": "stream",
     "text": [
      "20825\n"
     ]
    }
   ],
   "source": [
    "members_element = driver.find_element(By.CLASS_NAME, \"t-20\")\n",
    "\n",
    "# Get the text from the element\n",
    "members_text = members_element.text\n",
    "\n",
    "# Extract the number from the text (assuming the number is always followed by \" Members\")\n",
    "number_of_members = int(members_text.replace(\" Members\", \"\").replace(\",\", \"\"))\n",
    "print(number_of_members)"
   ]
  },
  {
   "cell_type": "code",
   "execution_count": 7,
   "id": "97d0e8ed",
   "metadata": {},
   "outputs": [
    {
     "data": {
      "text/plain": [
       "int"
      ]
     },
     "execution_count": 7,
     "metadata": {},
     "output_type": "execute_result"
    }
   ],
   "source": [
    "type(number_of_members)"
   ]
  },
  {
   "cell_type": "code",
   "execution_count": 8,
   "id": "f7b5097c",
   "metadata": {},
   "outputs": [
    {
     "name": "stdout",
     "output_type": "stream",
     "text": [
      "3\n",
      "4\n",
      "5\n",
      "6\n",
      "7\n",
      "8\n",
      "9\n",
      "10\n",
      "11\n",
      "12\n",
      "13\n",
      "14\n",
      "15\n",
      "16\n",
      "17\n",
      "18\n",
      "19\n",
      "20\n",
      "21\n",
      "22\n",
      "23\n",
      "24\n",
      "25\n",
      "26\n",
      "27\n",
      "28\n",
      "29\n",
      "30\n",
      "31\n",
      "32\n",
      "33\n",
      "39\n",
      "40\n",
      "41\n",
      "43\n",
      "44\n",
      "46\n",
      "48\n",
      "50\n",
      "52\n",
      "53\n",
      "55\n",
      "56\n",
      "58\n",
      "59\n",
      "62\n",
      "63\n",
      "64\n",
      "66\n",
      "67\n",
      "68\n",
      "69\n",
      "70\n",
      "71\n",
      "72\n",
      "73\n",
      "75\n",
      "76\n",
      "77\n",
      "78\n",
      "79\n",
      "80\n",
      "82\n",
      "84\n",
      "85\n",
      "86\n",
      "87\n",
      "88\n",
      "89\n",
      "90\n",
      "91\n",
      "93\n",
      "94\n",
      "95\n",
      "96\n",
      "97\n",
      "98\n",
      "99\n",
      "100\n",
      "103\n",
      "104\n",
      "105\n",
      "106\n",
      "107\n",
      "108\n",
      "109\n",
      "110\n",
      "111\n",
      "113\n",
      "115\n",
      "117\n",
      "118\n",
      "121\n",
      "122\n",
      "123\n",
      "124\n",
      "125\n",
      "127\n",
      "128\n",
      "129\n",
      "130\n",
      "133\n",
      "136\n",
      "137\n",
      "138\n",
      "139\n",
      "140\n",
      "141\n",
      "143\n",
      "144\n",
      "146\n",
      "148\n",
      "149\n",
      "150\n",
      "151\n",
      "152\n",
      "153\n",
      "154\n",
      "155\n",
      "156\n",
      "158\n",
      "159\n",
      "161\n"
     ]
    },
    {
     "ename": "NoSuchWindowException",
     "evalue": "Message: no such window: target window already closed\nfrom unknown error: web view not found\n  (Session info: chrome=116.0.5845.111)\nStacktrace:\n\tGetHandleVerifier [0x00007FF6F28052A2+57122]\n\t(No symbol) [0x00007FF6F277EA92]\n\t(No symbol) [0x00007FF6F264E3AB]\n\t(No symbol) [0x00007FF6F262E1B9]\n\t(No symbol) [0x00007FF6F26AB417]\n\t(No symbol) [0x00007FF6F26BE24F]\n\t(No symbol) [0x00007FF6F26A6DB3]\n\t(No symbol) [0x00007FF6F267D2B1]\n\t(No symbol) [0x00007FF6F267E494]\n\tGetHandleVerifier [0x00007FF6F2AAEF82+2849794]\n\tGetHandleVerifier [0x00007FF6F2B01D24+3189156]\n\tGetHandleVerifier [0x00007FF6F2AFACAF+3160367]\n\tGetHandleVerifier [0x00007FF6F2896D06+653702]\n\t(No symbol) [0x00007FF6F278A208]\n\t(No symbol) [0x00007FF6F27862C4]\n\t(No symbol) [0x00007FF6F27863F6]\n\t(No symbol) [0x00007FF6F27767A3]\n\tBaseThreadInitThunk [0x00007FFD8EA17614+20]\n\tRtlUserThreadStart [0x00007FFD900026B1+33]\n",
     "output_type": "error",
     "traceback": [
      "\u001b[1;31m---------------------------------------------------------------------------\u001b[0m",
      "\u001b[1;31mNoSuchWindowException\u001b[0m                     Traceback (most recent call last)",
      "\u001b[1;32m~\\AppData\\Local\\Temp\\ipykernel_5908\\2289075081.py\u001b[0m in \u001b[0;36m<module>\u001b[1;34m\u001b[0m\n\u001b[0;32m      4\u001b[0m \u001b[1;32mwhile\u001b[0m \u001b[0mi\u001b[0m \u001b[1;33m<\u001b[0m \u001b[0mmax_scrolls\u001b[0m\u001b[1;33m:\u001b[0m\u001b[1;33m\u001b[0m\u001b[1;33m\u001b[0m\u001b[0m\n\u001b[0;32m      5\u001b[0m     \u001b[1;31m# Scroll to the bottom of the page\u001b[0m\u001b[1;33m\u001b[0m\u001b[1;33m\u001b[0m\u001b[0m\n\u001b[1;32m----> 6\u001b[1;33m     \u001b[0mdriver\u001b[0m\u001b[1;33m.\u001b[0m\u001b[0mexecute_script\u001b[0m\u001b[1;33m(\u001b[0m\u001b[1;34m\"window.scrollTo(0, document.body.scrollHeight);\"\u001b[0m\u001b[1;33m)\u001b[0m\u001b[1;33m\u001b[0m\u001b[1;33m\u001b[0m\u001b[0m\n\u001b[0m\u001b[0;32m      7\u001b[0m     \u001b[0mi\u001b[0m \u001b[1;33m+=\u001b[0m \u001b[1;36m1\u001b[0m\u001b[1;33m\u001b[0m\u001b[1;33m\u001b[0m\u001b[0m\n\u001b[0;32m      8\u001b[0m \u001b[1;33m\u001b[0m\u001b[0m\n",
      "\u001b[1;32mE:\\Anaconda folder\\lib\\site-packages\\selenium\\webdriver\\remote\\webdriver.py\u001b[0m in \u001b[0;36mexecute_script\u001b[1;34m(self, script, *args)\u001b[0m\n\u001b[0;32m    498\u001b[0m         \u001b[0mcommand\u001b[0m \u001b[1;33m=\u001b[0m \u001b[0mCommand\u001b[0m\u001b[1;33m.\u001b[0m\u001b[0mW3C_EXECUTE_SCRIPT\u001b[0m\u001b[1;33m\u001b[0m\u001b[1;33m\u001b[0m\u001b[0m\n\u001b[0;32m    499\u001b[0m \u001b[1;33m\u001b[0m\u001b[0m\n\u001b[1;32m--> 500\u001b[1;33m         \u001b[1;32mreturn\u001b[0m \u001b[0mself\u001b[0m\u001b[1;33m.\u001b[0m\u001b[0mexecute\u001b[0m\u001b[1;33m(\u001b[0m\u001b[0mcommand\u001b[0m\u001b[1;33m,\u001b[0m \u001b[1;33m{\u001b[0m\u001b[1;34m\"script\"\u001b[0m\u001b[1;33m:\u001b[0m \u001b[0mscript\u001b[0m\u001b[1;33m,\u001b[0m \u001b[1;34m\"args\"\u001b[0m\u001b[1;33m:\u001b[0m \u001b[0mconverted_args\u001b[0m\u001b[1;33m}\u001b[0m\u001b[1;33m)\u001b[0m\u001b[1;33m[\u001b[0m\u001b[1;34m\"value\"\u001b[0m\u001b[1;33m]\u001b[0m\u001b[1;33m\u001b[0m\u001b[1;33m\u001b[0m\u001b[0m\n\u001b[0m\u001b[0;32m    501\u001b[0m \u001b[1;33m\u001b[0m\u001b[0m\n\u001b[0;32m    502\u001b[0m     \u001b[1;32mdef\u001b[0m \u001b[0mexecute_async_script\u001b[0m\u001b[1;33m(\u001b[0m\u001b[0mself\u001b[0m\u001b[1;33m,\u001b[0m \u001b[0mscript\u001b[0m\u001b[1;33m:\u001b[0m \u001b[0mstr\u001b[0m\u001b[1;33m,\u001b[0m \u001b[1;33m*\u001b[0m\u001b[0margs\u001b[0m\u001b[1;33m)\u001b[0m\u001b[1;33m:\u001b[0m\u001b[1;33m\u001b[0m\u001b[1;33m\u001b[0m\u001b[0m\n",
      "\u001b[1;32mE:\\Anaconda folder\\lib\\site-packages\\selenium\\webdriver\\remote\\webdriver.py\u001b[0m in \u001b[0;36mexecute\u001b[1;34m(self, driver_command, params)\u001b[0m\n\u001b[0;32m    438\u001b[0m         \u001b[0mresponse\u001b[0m \u001b[1;33m=\u001b[0m \u001b[0mself\u001b[0m\u001b[1;33m.\u001b[0m\u001b[0mcommand_executor\u001b[0m\u001b[1;33m.\u001b[0m\u001b[0mexecute\u001b[0m\u001b[1;33m(\u001b[0m\u001b[0mdriver_command\u001b[0m\u001b[1;33m,\u001b[0m \u001b[0mparams\u001b[0m\u001b[1;33m)\u001b[0m\u001b[1;33m\u001b[0m\u001b[1;33m\u001b[0m\u001b[0m\n\u001b[0;32m    439\u001b[0m         \u001b[1;32mif\u001b[0m \u001b[0mresponse\u001b[0m\u001b[1;33m:\u001b[0m\u001b[1;33m\u001b[0m\u001b[1;33m\u001b[0m\u001b[0m\n\u001b[1;32m--> 440\u001b[1;33m             \u001b[0mself\u001b[0m\u001b[1;33m.\u001b[0m\u001b[0merror_handler\u001b[0m\u001b[1;33m.\u001b[0m\u001b[0mcheck_response\u001b[0m\u001b[1;33m(\u001b[0m\u001b[0mresponse\u001b[0m\u001b[1;33m)\u001b[0m\u001b[1;33m\u001b[0m\u001b[1;33m\u001b[0m\u001b[0m\n\u001b[0m\u001b[0;32m    441\u001b[0m             \u001b[0mresponse\u001b[0m\u001b[1;33m[\u001b[0m\u001b[1;34m\"value\"\u001b[0m\u001b[1;33m]\u001b[0m \u001b[1;33m=\u001b[0m \u001b[0mself\u001b[0m\u001b[1;33m.\u001b[0m\u001b[0m_unwrap_value\u001b[0m\u001b[1;33m(\u001b[0m\u001b[0mresponse\u001b[0m\u001b[1;33m.\u001b[0m\u001b[0mget\u001b[0m\u001b[1;33m(\u001b[0m\u001b[1;34m\"value\"\u001b[0m\u001b[1;33m,\u001b[0m \u001b[1;32mNone\u001b[0m\u001b[1;33m)\u001b[0m\u001b[1;33m)\u001b[0m\u001b[1;33m\u001b[0m\u001b[1;33m\u001b[0m\u001b[0m\n\u001b[0;32m    442\u001b[0m             \u001b[1;32mreturn\u001b[0m \u001b[0mresponse\u001b[0m\u001b[1;33m\u001b[0m\u001b[1;33m\u001b[0m\u001b[0m\n",
      "\u001b[1;32mE:\\Anaconda folder\\lib\\site-packages\\selenium\\webdriver\\remote\\errorhandler.py\u001b[0m in \u001b[0;36mcheck_response\u001b[1;34m(self, response)\u001b[0m\n\u001b[0;32m    243\u001b[0m                 \u001b[0malert_text\u001b[0m \u001b[1;33m=\u001b[0m \u001b[0mvalue\u001b[0m\u001b[1;33m[\u001b[0m\u001b[1;34m\"alert\"\u001b[0m\u001b[1;33m]\u001b[0m\u001b[1;33m.\u001b[0m\u001b[0mget\u001b[0m\u001b[1;33m(\u001b[0m\u001b[1;34m\"text\"\u001b[0m\u001b[1;33m)\u001b[0m\u001b[1;33m\u001b[0m\u001b[1;33m\u001b[0m\u001b[0m\n\u001b[0;32m    244\u001b[0m             \u001b[1;32mraise\u001b[0m \u001b[0mexception_class\u001b[0m\u001b[1;33m(\u001b[0m\u001b[0mmessage\u001b[0m\u001b[1;33m,\u001b[0m \u001b[0mscreen\u001b[0m\u001b[1;33m,\u001b[0m \u001b[0mstacktrace\u001b[0m\u001b[1;33m,\u001b[0m \u001b[0malert_text\u001b[0m\u001b[1;33m)\u001b[0m  \u001b[1;31m# type: ignore[call-arg]  # mypy is not smart enough here\u001b[0m\u001b[1;33m\u001b[0m\u001b[1;33m\u001b[0m\u001b[0m\n\u001b[1;32m--> 245\u001b[1;33m         \u001b[1;32mraise\u001b[0m \u001b[0mexception_class\u001b[0m\u001b[1;33m(\u001b[0m\u001b[0mmessage\u001b[0m\u001b[1;33m,\u001b[0m \u001b[0mscreen\u001b[0m\u001b[1;33m,\u001b[0m \u001b[0mstacktrace\u001b[0m\u001b[1;33m)\u001b[0m\u001b[1;33m\u001b[0m\u001b[1;33m\u001b[0m\u001b[0m\n\u001b[0m",
      "\u001b[1;31mNoSuchWindowException\u001b[0m: Message: no such window: target window already closed\nfrom unknown error: web view not found\n  (Session info: chrome=116.0.5845.111)\nStacktrace:\n\tGetHandleVerifier [0x00007FF6F28052A2+57122]\n\t(No symbol) [0x00007FF6F277EA92]\n\t(No symbol) [0x00007FF6F264E3AB]\n\t(No symbol) [0x00007FF6F262E1B9]\n\t(No symbol) [0x00007FF6F26AB417]\n\t(No symbol) [0x00007FF6F26BE24F]\n\t(No symbol) [0x00007FF6F26A6DB3]\n\t(No symbol) [0x00007FF6F267D2B1]\n\t(No symbol) [0x00007FF6F267E494]\n\tGetHandleVerifier [0x00007FF6F2AAEF82+2849794]\n\tGetHandleVerifier [0x00007FF6F2B01D24+3189156]\n\tGetHandleVerifier [0x00007FF6F2AFACAF+3160367]\n\tGetHandleVerifier [0x00007FF6F2896D06+653702]\n\t(No symbol) [0x00007FF6F278A208]\n\t(No symbol) [0x00007FF6F27862C4]\n\t(No symbol) [0x00007FF6F27863F6]\n\t(No symbol) [0x00007FF6F27767A3]\n\tBaseThreadInitThunk [0x00007FFD8EA17614+20]\n\tRtlUserThreadStart [0x00007FFD900026B1+33]\n"
     ]
    }
   ],
   "source": [
    "max_scrolls = 249\n",
    "i = 0\n",
    "\n",
    "while i < max_scrolls:\n",
    "    # Scroll to the bottom of the page\n",
    "    driver.execute_script(\"window.scrollTo(0, document.body.scrollHeight);\")\n",
    "    i += 1\n",
    "    \n",
    "    try:\n",
    "        # Find the \"Show more results\" button\n",
    "        show_more_button = driver.find_element(By.XPATH, \"//span[text()='Show more results']\")\n",
    "        \n",
    "        # Click the button to load more results\n",
    "        show_more_button.click()\n",
    "        print(i)\n",
    "        \n",
    "    except:\n",
    "        # If the button is not found, or there's an error while clicking, just continue\n",
    "        pass\n",
    "\n",
    "\n"
   ]
  },
  {
   "cell_type": "code",
   "execution_count": null,
   "id": "86270d2d",
   "metadata": {},
   "outputs": [],
   "source": [
    "person_name = []\n",
    "try:\n",
    "    # Find all elements with the given class name\n",
    "    name_elements = driver.find_elements(By.CLASS_NAME, \"artdeco-entity-lockup__title\")\n",
    "    \n",
    "    # Loop through each element and extract the text\n",
    "    for element in name_elements:\n",
    "        name = element.text.strip()  # Remove leading/trailing spaces, if any\n",
    "        person_name.append(name)\n",
    "except IndexError:\n",
    "    print(\"no\")\n",
    "\n",
    "print(len(person_name))\n",
    "print(person_name)\n"
   ]
  },
  {
   "cell_type": "code",
   "execution_count": null,
   "id": "63c0b309",
   "metadata": {},
   "outputs": [],
   "source": [
    "person_heading = []\n",
    "try:\n",
    "    # Find all elements with the given class name (compound class name)\n",
    "    heading_elements = driver.find_elements(By.CSS_SELECTOR, \".artdeco-entity-lockup__subtitle.ember-view\")\n",
    "    \n",
    "    # Loop through each element and extract the text\n",
    "    for element in heading_elements:\n",
    "        heading = element.text.strip()  # Remove leading/trailing spaces, if any\n",
    "        person_heading.append(heading)\n",
    "except IndexError:\n",
    "    print(\"no\")\n",
    "\n",
    "print(len(person_heading))\n",
    "print(person_heading)\n",
    "\n",
    "\n"
   ]
  },
  {
   "cell_type": "code",
   "execution_count": null,
   "id": "02f88da0",
   "metadata": {},
   "outputs": [],
   "source": [
    "try:\n",
    "    # Find all <a> elements with the given class name\n",
    "    link_elements = driver.find_elements(By.CLASS_NAME, \"ui-conditional-link-wrapper\")\n",
    "    \n",
    "    # Loop through each element and extract the 'href' attribute\n",
    "    links = []\n",
    "    for element in link_elements:\n",
    "        href_link = element.get_attribute(\"href\")\n",
    "        if href_link:\n",
    "            links.append(href_link)\n",
    "    \n",
    "    print(links)\n",
    "except:\n",
    "    print(\"Links not found or an error occurred.\")"
   ]
  },
  {
   "cell_type": "code",
   "execution_count": null,
   "id": "0a0a672f",
   "metadata": {},
   "outputs": [],
   "source": [
    "len(links)"
   ]
  },
  {
   "cell_type": "code",
   "execution_count": null,
   "id": "e3f09211",
   "metadata": {},
   "outputs": [],
   "source": [
    "data_dict = {\n",
    "    \"name\": person_name,\n",
    "    \"heading\": person_heading,\n",
    "    \"links\": links\n",
    "}\n",
    "\n",
    "# Create the DataFrame using the dictionary\n",
    "df = pd.DataFrame(data_dict)\n",
    "\n",
    "# Print the DataFrame\n",
    "df"
   ]
  },
  {
   "cell_type": "code",
   "execution_count": null,
   "id": "48a10543",
   "metadata": {},
   "outputs": [],
   "source": [
    "df.to_csv(\"./Scraped Data m.csv\")"
   ]
  },
  {
   "cell_type": "code",
   "execution_count": null,
   "id": "24d1a024",
   "metadata": {},
   "outputs": [],
   "source": []
  },
  {
   "cell_type": "code",
   "execution_count": null,
   "id": "ac8d61b3",
   "metadata": {},
   "outputs": [],
   "source": []
  }
 ],
 "metadata": {
  "kernelspec": {
   "display_name": "Python 3 (ipykernel)",
   "language": "python",
   "name": "python3"
  },
  "language_info": {
   "codemirror_mode": {
    "name": "ipython",
    "version": 3
   },
   "file_extension": ".py",
   "mimetype": "text/x-python",
   "name": "python",
   "nbconvert_exporter": "python",
   "pygments_lexer": "ipython3",
   "version": "3.9.13"
  }
 },
 "nbformat": 4,
 "nbformat_minor": 5
}

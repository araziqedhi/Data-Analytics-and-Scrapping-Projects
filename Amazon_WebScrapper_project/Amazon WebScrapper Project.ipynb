{
 "cells": [
  {
   "cell_type": "code",
   "execution_count": 1,
   "id": "ce8c419f",
   "metadata": {},
   "outputs": [],
   "source": [
    "# import libraries \n",
    "\n",
    "from bs4 import BeautifulSoup\n",
    "import requests\n",
    "import time\n",
    "import datetime\n",
    "\n",
    "import smtplib\n"
   ]
  },
  {
   "cell_type": "code",
   "execution_count": 2,
   "id": "fe88c3e6",
   "metadata": {},
   "outputs": [
    {
     "name": "stdout",
     "output_type": "stream",
     "text": [
      "Funny Got Data MIS Data Systems Business Analyst T-Shirt\n",
      "\n",
      "                               $23.66\n",
      "                              \n"
     ]
    }
   ],
   "source": [
    "# Connect to Website and pull in data\n",
    "\n",
    "URL = 'https://www.amazon.com/Funny-Data-Systems-Business-Analyst/dp/B07FNW9FGJ/ref=sr_1_3?dchild=1&keywords=data%2Banalyst%2Btshirt&qid=1626655184&sr=8-3&customId=B0752XJYNL&th=1'\n",
    "\n",
    "headers = {\"User-Agent\": \"Mozilla/5.0 (Windows NT 10.0; Win64; x64) AppleWebKit/537.36 (KHTML, like Gecko) Chrome/78.0.3904.108 Safari/537.36\", \"Accept-Encoding\":\"gzip, deflate\", \"Accept\":\"text/html,application/xhtml+xml,application/xml;q=0.9,*/*;q=0.8\", \"DNT\":\"1\",\"Connection\":\"close\", \"Upgrade-Insecure-Requests\":\"1\"}\n",
    "\n",
    "page = requests.get(URL, headers=headers)\n",
    "\n",
    "soup1 = BeautifulSoup(page.content, \"html.parser\")\n",
    "\n",
    "soup2 = BeautifulSoup(soup1.prettify(), \"html.parser\")\n",
    "\n",
    "title = soup2.find(id='productTitle').get_text(strip=True)\n",
    "\n",
    "\n",
    "\n",
    "price = soup2.find(\"span\",{\"class\":\"a-price\"}).find(\"span\").text\n",
    "print(title)\n",
    "print(price)\n",
    "\n",
    "\n"
   ]
  },
  {
   "cell_type": "code",
   "execution_count": 3,
   "id": "a097d070",
   "metadata": {},
   "outputs": [
    {
     "name": "stdout",
     "output_type": "stream",
     "text": [
      "Funny Got Data MIS Data Systems Business Analyst T-Shirt\n",
      "23.66\n"
     ]
    }
   ],
   "source": [
    "# Clean up the data a little bit\n",
    "title = title.strip()\n",
    "\n",
    "price=price.strip()[1:]\n",
    "\n",
    "print(title)\n",
    "print(price)"
   ]
  },
  {
   "cell_type": "code",
   "execution_count": 4,
   "id": "45c020e1",
   "metadata": {},
   "outputs": [
    {
     "name": "stdout",
     "output_type": "stream",
     "text": [
      "2023-06-04\n"
     ]
    }
   ],
   "source": [
    "import datetime\n",
    "today=datetime.date.today()\n",
    "print(today)"
   ]
  },
  {
   "cell_type": "code",
   "execution_count": 5,
   "id": "31533506",
   "metadata": {},
   "outputs": [],
   "source": [
    "import csv \n",
    "header =[\"Title\",\"Price\",\"Date\"]\n",
    "data=[title,price,today]\n",
    "\n",
    "with open(\"AmazonWebScrapperDataSet.csv\",\"w\",newline=\"\",encoding=\"UTF8\")as f:\n",
    "    writer=csv.writer(f)\n",
    "    writer.writerow(header)\n",
    "    writer.writerow(data)"
   ]
  },
  {
   "cell_type": "code",
   "execution_count": 6,
   "id": "50e7c933",
   "metadata": {},
   "outputs": [
    {
     "data": {
      "text/html": [
       "<div>\n",
       "<style scoped>\n",
       "    .dataframe tbody tr th:only-of-type {\n",
       "        vertical-align: middle;\n",
       "    }\n",
       "\n",
       "    .dataframe tbody tr th {\n",
       "        vertical-align: top;\n",
       "    }\n",
       "\n",
       "    .dataframe thead th {\n",
       "        text-align: right;\n",
       "    }\n",
       "</style>\n",
       "<table border=\"1\" class=\"dataframe\">\n",
       "  <thead>\n",
       "    <tr style=\"text-align: right;\">\n",
       "      <th></th>\n",
       "      <th>Title</th>\n",
       "      <th>Price</th>\n",
       "      <th>Date</th>\n",
       "    </tr>\n",
       "  </thead>\n",
       "  <tbody>\n",
       "    <tr>\n",
       "      <th>0</th>\n",
       "      <td>Funny Got Data MIS Data Systems Business Analy...</td>\n",
       "      <td>23.66</td>\n",
       "      <td>2023-06-04</td>\n",
       "    </tr>\n",
       "  </tbody>\n",
       "</table>\n",
       "</div>"
      ],
      "text/plain": [
       "                                               Title  Price        Date\n",
       "0  Funny Got Data MIS Data Systems Business Analy...  23.66  2023-06-04"
      ]
     },
     "execution_count": 6,
     "metadata": {},
     "output_type": "execute_result"
    }
   ],
   "source": [
    "import pandas as pd\n",
    "df=pd.read_csv(\"./AmazonWebScrapperDataSet.csv\")\n",
    "df"
   ]
  },
  {
   "cell_type": "code",
   "execution_count": 7,
   "id": "57f5de2a",
   "metadata": {},
   "outputs": [],
   "source": [
    "# We are now Appending the Data to csv\n",
    "\n",
    "with open (\"AmazonWebScrapperDataSet.csv\",\"a+\",newline=\"\",encoding=\"UTF8\")as f:\n",
    "    writer=csv.writer(f)\n",
    "    writer.writerow(data)\n",
    "    "
   ]
  },
  {
   "cell_type": "code",
   "execution_count": null,
   "id": "289c27c3",
   "metadata": {
    "scrolled": true
   },
   "outputs": [],
   "source": []
  },
  {
   "cell_type": "code",
   "execution_count": 8,
   "id": "682af3e2",
   "metadata": {},
   "outputs": [],
   "source": [
    "# Now create function to do this work seamlessly \n",
    "def check_price():\n",
    "    from bs4 import BeautifulSoup\n",
    "    import requests\n",
    "    import time\n",
    "    import datetime\n",
    "\n",
    "    import smtplib\n",
    "    \n",
    "    # Connect to Website and pull in data\n",
    "\n",
    "    URL = 'https://www.amazon.com/Funny-Data-Systems-Business-Analyst/dp/B07FNW9FGJ/ref=sr_1_3?dchild=1&keywords=data%2Banalyst%2Btshirt&qid=1626655184&sr=8-3&customId=B0752XJYNL&th=1'\n",
    "\n",
    "    headers = {\"User-Agent\": \"Mozilla/5.0 (Windows NT 10.0; Win64; x64) AppleWebKit/537.36 (KHTML, like Gecko) Chrome/78.0.3904.108 Safari/537.36\", \"Accept-Encoding\":\"gzip, deflate\", \"Accept\":\"text/html,application/xhtml+xml,application/xml;q=0.9,*/*;q=0.8\", \"DNT\":\"1\",\"Connection\":\"close\", \"Upgrade-Insecure-Requests\":\"1\"}\n",
    "\n",
    "    page = requests.get(URL, headers=headers)\n",
    "\n",
    "    soup1 = BeautifulSoup(page.content, \"html.parser\")\n",
    "\n",
    "    soup2 = BeautifulSoup(soup1.prettify(), \"html.parser\")\n",
    "\n",
    "    title = soup2.find(id='productTitle').get_text(strip=True)\n",
    "\n",
    "\n",
    "\n",
    "    price = soup2.find(\"span\",{\"class\":\"a-price\"}).find(\"span\").text\n",
    "    print(title)\n",
    "    print(price)\n",
    "\n",
    "    # Clean up the data a little bit\n",
    "    title = title.strip()\n",
    "\n",
    "    price=price.strip()[1:]\n",
    "\n",
    "    print(title)\n",
    "    print(price)\n",
    "    price=float(price)\n",
    "\n",
    "    import datetime\n",
    "    today=datetime.date.today()\n",
    "    print(today)\n",
    "    \n",
    "    import csv \n",
    "    header =[\"Title\",\"Price\",\"Date\"]\n",
    "    data=[title,price,today]\n",
    "\n",
    "    with open(\"AmazonWebScrapperDataSet.csv\",\"a+\",newline=\"\",encoding=\"UTF8\")as f:\n",
    "        writer=csv.writer(f)\n",
    "        writer.writerow(data)\n",
    "    import pandas as pd\n",
    "    df=pd.read_csv(\"./AmazonWebScrapperDataSet.csv\")\n",
    "    df\n",
    "    # if price<24:\n",
    "        # send_mail()"
   ]
  },
  {
   "cell_type": "code",
   "execution_count": 9,
   "id": "881bb573",
   "metadata": {},
   "outputs": [
    {
     "name": "stdout",
     "output_type": "stream",
     "text": [
      "Funny Got Data MIS Data Systems Business Analyst T-Shirt\n",
      "\n",
      "                               $23.66\n",
      "                              \n",
      "Funny Got Data MIS Data Systems Business Analyst T-Shirt\n",
      "23.66\n",
      "2023-06-04\n",
      "Funny Got Data MIS Data Systems Business Analyst T-Shirt\n",
      "\n",
      "                              $23.66\n",
      "                             \n",
      "Funny Got Data MIS Data Systems Business Analyst T-Shirt\n",
      "23.66\n",
      "2023-06-04\n",
      "Funny Got Data MIS Data Systems Business Analyst T-Shirt\n",
      "\n",
      "                               $23.66\n",
      "                              \n",
      "Funny Got Data MIS Data Systems Business Analyst T-Shirt\n",
      "23.66\n",
      "2023-06-04\n",
      "Funny Got Data MIS Data Systems Business Analyst T-Shirt\n",
      "\n",
      "                              $23.66\n",
      "                             \n",
      "Funny Got Data MIS Data Systems Business Analyst T-Shirt\n",
      "23.66\n",
      "2023-06-04\n",
      "Funny Got Data MIS Data Systems Business Analyst T-Shirt\n",
      "\n",
      "                              $23.66\n",
      "                             \n",
      "Funny Got Data MIS Data Systems Business Analyst T-Shirt\n",
      "23.66\n",
      "2023-06-04\n",
      "Funny Got Data MIS Data Systems Business Analyst T-Shirt\n",
      "\n",
      "                               $23.66\n",
      "                              \n",
      "Funny Got Data MIS Data Systems Business Analyst T-Shirt\n",
      "23.66\n",
      "2023-06-04\n"
     ]
    },
    {
     "ename": "KeyboardInterrupt",
     "evalue": "",
     "output_type": "error",
     "traceback": [
      "\u001b[1;31m---------------------------------------------------------------------------\u001b[0m",
      "\u001b[1;31mKeyboardInterrupt\u001b[0m                         Traceback (most recent call last)",
      "\u001b[1;32m~\\AppData\\Local\\Temp\\ipykernel_304\\4044664893.py\u001b[0m in \u001b[0;36m<module>\u001b[1;34m\u001b[0m\n\u001b[0;32m      1\u001b[0m \u001b[1;32mwhile\u001b[0m \u001b[1;32mTrue\u001b[0m\u001b[1;33m:\u001b[0m\u001b[1;33m\u001b[0m\u001b[1;33m\u001b[0m\u001b[0m\n\u001b[0;32m      2\u001b[0m     \u001b[0mcheck_price\u001b[0m\u001b[1;33m(\u001b[0m\u001b[1;33m)\u001b[0m\u001b[1;33m\u001b[0m\u001b[1;33m\u001b[0m\u001b[0m\n\u001b[1;32m----> 3\u001b[1;33m     \u001b[0mtime\u001b[0m\u001b[1;33m.\u001b[0m\u001b[0msleep\u001b[0m\u001b[1;33m(\u001b[0m\u001b[1;36m100\u001b[0m\u001b[1;33m)\u001b[0m\u001b[1;33m\u001b[0m\u001b[1;33m\u001b[0m\u001b[0m\n\u001b[0m",
      "\u001b[1;31mKeyboardInterrupt\u001b[0m: "
     ]
    }
   ],
   "source": [
    "while True:\n",
    "    check_price()\n",
    "    time.sleep(100)"
   ]
  },
  {
   "cell_type": "code",
   "execution_count": null,
   "id": "c94b8459",
   "metadata": {},
   "outputs": [],
   "source": [
    "import pandas as pd\n",
    "df=pd.read_csv(\"./AmazonWebScrapperDataSet.csv\")\n",
    "df"
   ]
  },
  {
   "cell_type": "code",
   "execution_count": null,
   "id": "de73dd6d",
   "metadata": {},
   "outputs": [],
   "source": [
    "import smtplib\n",
    "\n",
    "def send_mail():\n",
    "    server = smtplib.SMTP_SSL('smtp.gmail.com', 465)\n",
    "    server.ehlo()\n",
    "    server.login('araziqedhi@gmail.com', 'xxxxxxxxxx')\n",
    "\n",
    "    subject = \"The Shirt you want is below $15! Now is your chance to buy!\"\n",
    "    body = \"Alex, This is the moment we have been waiting for. Now is your chance to pick up the shirt of your dreams. Don't mess it up! Link here: https://www.amazon.com/Funny-Data-Systems-Business-Analyst/dp/B07FNW9FGJ/ref=sr_1_3?dchild=1&keywords=data+analyst+tshirt&qid=1626655184&sr=8-3\"\n",
    "\n",
    "    msg = f\"Subject: {subject}\\n\\n{body}\"\n",
    "\n",
    "    server.sendmail(\n",
    "        'araziqedhi@gmail.com',\n",
    "        'recipient_email@example.com',\n",
    "        msg\n",
    "    )\n",
    "\n",
    "    server.quit()\n",
    "\n",
    "# Call the send_mail function\n",
    "send_mail()\n"
   ]
  },
  {
   "cell_type": "code",
   "execution_count": null,
   "id": "07b7239d",
   "metadata": {},
   "outputs": [],
   "source": []
  }
 ],
 "metadata": {
  "kernelspec": {
   "display_name": "Python 3 (ipykernel)",
   "language": "python",
   "name": "python3"
  },
  "language_info": {
   "codemirror_mode": {
    "name": "ipython",
    "version": 3
   },
   "file_extension": ".py",
   "mimetype": "text/x-python",
   "name": "python",
   "nbconvert_exporter": "python",
   "pygments_lexer": "ipython3",
   "version": "3.9.13"
  }
 },
 "nbformat": 4,
 "nbformat_minor": 5
}
